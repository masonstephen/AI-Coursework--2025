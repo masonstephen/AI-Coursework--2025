{
  "nbformat": 4,
  "nbformat_minor": 0,
  "metadata": {
    "colab": {
      "provenance": [],
      "authorship_tag": "ABX9TyNm27BfgGLccclsn9zMm+DY",
      "include_colab_link": true
    },
    "kernelspec": {
      "name": "python3",
      "display_name": "Python 3"
    },
    "language_info": {
      "name": "python"
    }
  },
  "cells": [
    {
      "cell_type": "markdown",
      "metadata": {
        "id": "view-in-github",
        "colab_type": "text"
      },
      "source": [
        "<a href=\"https://colab.research.google.com/github/masonstephen/AI-Coursework--2025/blob/main/Python_Refresher.ipynb\" target=\"_parent\"><img src=\"https://colab.research.google.com/assets/colab-badge.svg\" alt=\"Open In Colab\"/></a>"
      ]
    },
    {
      "cell_type": "code",
      "execution_count": 7,
      "metadata": {
        "id": "KG2PwWwAm7HH",
        "colab": {
          "base_uri": "https://localhost:8080/"
        },
        "outputId": "e3adf8f3-aae9-4ef4-b8bd-850c6c558d2e"
      },
      "outputs": [
        {
          "output_type": "stream",
          "name": "stdout",
          "text": [
            "Enter the number of days: 43\n",
            "The number of seconds in 43 days is 3715200 seconds.\n"
          ]
        }
      ],
      "source": [
        "# The line below will ask the user for the number of days\n",
        "days = int(input(\"Enter the number of days: \"))\n",
        "\n",
        "# Calculate the number of seconds in the given number of days inputed by the user\n",
        "seconds = days * 24 * 60 * 60\n",
        "\n",
        "# Print the result\n",
        "print(f\"The number of seconds in {days} days is {seconds} seconds.\")"
      ]
    },
    {
      "cell_type": "code",
      "source": [
        "# Input the radius\n",
        "radius = float(input(\"Enter the radius of the sphere: \"))\n",
        "\n",
        "# Calculate the volume of the sphere using the formula (4/3)πr^3\n",
        "volume = (4/3) * 3.14 * (radius ** 3)\n",
        "\n",
        "# Print the result\n",
        "print(f\"The volume of the sphere with radius {radius} is {volume:.2f} cubic units.\")"
      ],
      "metadata": {
        "colab": {
          "base_uri": "https://localhost:8080/"
        },
        "id": "7f8bxV905Vgq",
        "outputId": "d56a7dd4-d219-4341-ee57-83ae82578de4"
      },
      "execution_count": 8,
      "outputs": [
        {
          "output_type": "stream",
          "name": "stdout",
          "text": [
            "Enter the radius of the sphere: 43\n",
            "The volume of the sphere with radius 43.0 is 332869.31 cubic units.\n"
          ]
        }
      ]
    },
    {
      "cell_type": "code",
      "source": [
        "# Define a function to calculate the area of a square\n",
        "def calculate_area(side_length):\n",
        "    return side_length ** 2\n",
        "\n",
        "# Define a function to calculate the perimeter of a square\n",
        "def calculate_perimeter(side_length):\n",
        "    return 4 * side_length\n",
        "\n",
        "# Ask the user for the side length of the square\n",
        "side_length = float(input(\"Enter the side length of the square: \"))\n",
        "\n",
        "# Calculate and print the area and perimeter\n",
        "area = calculate_area(side_length)\n",
        "perimeter = calculate_perimeter(side_length)\n",
        "print(f\"The area of the square with side length {side_length} is {area:.2f} square units.\")\n",
        "print(f\"The perimeter of the square with side length {side_length} is {perimeter:.2f} units.\")"
      ],
      "metadata": {
        "colab": {
          "base_uri": "https://localhost:8080/"
        },
        "id": "e1SwL8tj5f0W",
        "outputId": "e59128d1-dec8-4415-f510-10b4b34145f2"
      },
      "execution_count": 4,
      "outputs": [
        {
          "output_type": "stream",
          "name": "stdout",
          "text": [
            "Enter the side length of the square: 3\n",
            "The area of the square with side length 3.0 is 9.00 square units.\n",
            "The perimeter of the square with side length 3.0 is 12.00 units.\n"
          ]
        }
      ]
    },
    {
      "cell_type": "code",
      "source": [
        "# Define a function to check if a character is uppercase or lowercase\n",
        "def check_case(char):\n",
        "    if char.isupper():\n",
        "        return \"Uppercase\"\n",
        "    elif char.islower():\n",
        "        return \"Lowercase\"\n",
        "    else:\n",
        "        return \"Neither\"\n",
        "\n",
        "# Ask the user for a character\n",
        "char = input(\"Enter a character: \")\n",
        "\n",
        "# Check the case of the character and print the result\n",
        "result = check_case(char)\n",
        "print(f\"The character '{char}' is {result}.\")"
      ],
      "metadata": {
        "colab": {
          "base_uri": "https://localhost:8080/"
        },
        "id": "QP2VSEnx5uZk",
        "outputId": "335d92fb-dfb0-47f0-832b-069a99920388"
      },
      "execution_count": 5,
      "outputs": [
        {
          "output_type": "stream",
          "name": "stdout",
          "text": [
            "Enter a character: 5\n",
            "The character '5' is Neither.\n"
          ]
        }
      ]
    },
    {
      "cell_type": "code",
      "source": [
        "# The value of x is initialized\n",
        "x = 0\n",
        "# The value of x is initialized\n",
        "y = 20\n",
        "\n",
        "while y >= 6:\n",
        "    y -= 4\n",
        "    x += 2 / y\n",
        "\n",
        "print(x)"
      ],
      "metadata": {
        "colab": {
          "base_uri": "https://localhost:8080/"
        },
        "id": "NqQpn7Oc52zS",
        "outputId": "ddd10ff5-3ef9-4a2a-c12d-e0dc8d45c756"
      },
      "execution_count": 6,
      "outputs": [
        {
          "output_type": "stream",
          "name": "stdout",
          "text": [
            "1.0416666666666665\n"
          ]
        }
      ]
    },
    {
      "cell_type": "code",
      "source": [
        "# An empty list to store the user's input values is being initialized\n",
        "values = []\n",
        "\n",
        "# Loop 5 times to get 5 values from the user\n",
        "for i in range(5):\n",
        "    value = float(input(f\"Enter value {i+1}: \"))\n",
        "    values.append(value)\n",
        "\n",
        "# Calculate the average of the values\n",
        "average = sum(values) / len(values)\n",
        "\n",
        "print(f\"The average of the values is {average:.2f}\")"
      ],
      "metadata": {
        "colab": {
          "base_uri": "https://localhost:8080/"
        },
        "id": "y9UgDCh4575s",
        "outputId": "dc32511a-7807-4d38-f323-d09b6afc49ea"
      },
      "execution_count": 9,
      "outputs": [
        {
          "output_type": "stream",
          "name": "stdout",
          "text": [
            "Enter value 1: 1\n",
            "Enter value 2: 2\n",
            "Enter value 3: 3\n",
            "Enter value 4: 4\n",
            "Enter value 5: 5\n",
            "The average of the values is 3.00\n"
          ]
        }
      ]
    }
  ]
}